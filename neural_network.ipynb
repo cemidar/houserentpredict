{
 "cells": [
  {
   "cell_type": "code",
   "id": "initial_id",
   "metadata": {
    "collapsed": true,
    "ExecuteTime": {
     "end_time": "2024-12-11T15:48:06.820435Z",
     "start_time": "2024-12-11T14:58:44.992436Z"
    }
   },
   "source": [
    "import pandas as pd\n",
    "from sklearn.model_selection import KFold\n",
    "from sklearn.preprocessing import StandardScaler, OneHotEncoder\n",
    "from sklearn.compose import ColumnTransformer\n",
    "from sklearn.metrics import mean_squared_error, mean_absolute_error, r2_score\n",
    "import numpy as np\n",
    "from tensorflow.keras.models import Sequential\n",
    "from tensorflow.keras.layers import Dense, Input\n",
    "\n",
    "# Load your dataset\n",
    "data = pd.read_csv(\"allcities.csv\")\n",
    "\n",
    "# Features and target\n",
    "X = data.drop(columns=['price'])\n",
    "y = data['price']\n",
    "\n",
    "# Preprocessing pipeline\n",
    "numeric_features = ['bedroom', 'bathroom', 'area']\n",
    "numeric_transformer = StandardScaler()\n",
    "\n",
    "categorical_features = ['seller_type', 'layout_type', 'property_type', 'locality', 'furnish_type', 'city']\n",
    "categorical_transformer = OneHotEncoder(handle_unknown='ignore')\n",
    "\n",
    "preprocessor = ColumnTransformer(\n",
    "    transformers=[\n",
    "        ('num', numeric_transformer, numeric_features),\n",
    "        ('cat', categorical_transformer, categorical_features)\n",
    "    ])\n",
    "\n",
    "# Preprocess the dataset\n",
    "X = preprocessor.fit_transform(X)\n",
    "\n",
    "# Function to create a neural network\n",
    "def create_neural_network(input_dim):\n",
    "    model = Sequential()\n",
    "    model.add(Input(shape=(input_dim,)))  # Input layer\n",
    "    model.add(Dense(128, activation='relu'))  # Hidden layer\n",
    "    model.add(Dense(64, activation='relu'))  # Hidden layer\n",
    "    model.add(Dense(1))  # Output layer\n",
    "    model.compile(optimizer='adam', loss='mse')  # Compile the model\n",
    "    return model\n",
    "\n",
    "# Cross-validation setup\n",
    "kfold = KFold(n_splits=5, shuffle=True, random_state=42)\n",
    "\n",
    "rmse_scores = []\n",
    "mae_scores = []\n",
    "r2_scores = []\n",
    "\n",
    "# Perform KFold cross-validation\n",
    "for train_index, test_index in kfold.split(X):\n",
    "    # Split data into training and test sets for the current fold\n",
    "    X_train, X_test = X[train_index], X[test_index]\n",
    "    y_train, y_test = y.iloc[train_index], y.iloc[test_index]\n",
    "    \n",
    "    # Build the model\n",
    "    model = create_neural_network(X_train.shape[1])\n",
    "    \n",
    "    # Train the model\n",
    "    model.fit(X_train, y_train, epochs=50, batch_size=32, verbose=0)\n",
    "    \n",
    "    # Predict on test set\n",
    "    y_pred = model.predict(X_test).flatten()\n",
    "    \n",
    "    # Calculate evaluation metrics\n",
    "    rmse = np.sqrt(mean_squared_error(y_test, y_pred))\n",
    "    mae = mean_absolute_error(y_test, y_pred)\n",
    "    r2 = r2_score(y_test, y_pred)\n",
    "    \n",
    "    # Store the metrics for this fold\n",
    "    rmse_scores.append(rmse)\n",
    "    mae_scores.append(mae)\n",
    "    r2_scores.append(r2)\n",
    "\n",
    "# Calculate average metrics across all folds\n",
    "avg_rmse = np.mean(rmse_scores)\n",
    "avg_mae = np.mean(mae_scores)\n",
    "avg_r2 = np.mean(r2_scores)\n",
    "\n",
    "# Print the average metrics\n",
    "print(f\"Average RMSE: {avg_rmse}\")\n",
    "print(f\"Average MAE: {avg_mae}\")\n",
    "print(f\"Average R^2: {avg_r2}\")\n"
   ],
   "outputs": [
    {
     "name": "stdout",
     "output_type": "stream",
     "text": [
      "\u001B[1m1207/1207\u001B[0m \u001B[32m━━━━━━━━━━━━━━━━━━━━\u001B[0m\u001B[37m\u001B[0m \u001B[1m1s\u001B[0m 1ms/step\n",
      "\u001B[1m1207/1207\u001B[0m \u001B[32m━━━━━━━━━━━━━━━━━━━━\u001B[0m\u001B[37m\u001B[0m \u001B[1m1s\u001B[0m 1ms/step\n",
      "\u001B[1m1207/1207\u001B[0m \u001B[32m━━━━━━━━━━━━━━━━━━━━\u001B[0m\u001B[37m\u001B[0m \u001B[1m1s\u001B[0m 1ms/step\n",
      "\u001B[1m1207/1207\u001B[0m \u001B[32m━━━━━━━━━━━━━━━━━━━━\u001B[0m\u001B[37m\u001B[0m \u001B[1m1s\u001B[0m 969us/step\n",
      "\u001B[1m1207/1207\u001B[0m \u001B[32m━━━━━━━━━━━━━━━━━━━━\u001B[0m\u001B[37m\u001B[0m \u001B[1m1s\u001B[0m 1ms/step\n",
      "Average RMSE: 34225.27107347763\n",
      "Average MAE: 9765.856799846024\n",
      "Average R^2: 0.8613215212473211\n"
     ]
    }
   ],
   "execution_count": 1
  },
  {
   "cell_type": "code",
   "source": [],
   "metadata": {
    "collapsed": false,
    "ExecuteTime": {
     "end_time": "2024-12-11T15:48:07.409434Z",
     "start_time": "2024-12-11T15:48:07.395436Z"
    }
   },
   "id": "96deb0fa0971adf9",
   "outputs": [],
   "execution_count": null
  }
 ],
 "metadata": {
  "kernelspec": {
   "display_name": "Python 3",
   "language": "python",
   "name": "python3"
  },
  "language_info": {
   "codemirror_mode": {
    "name": "ipython",
    "version": 2
   },
   "file_extension": ".py",
   "mimetype": "text/x-python",
   "name": "python",
   "nbconvert_exporter": "python",
   "pygments_lexer": "ipython2",
   "version": "2.7.6"
  }
 },
 "nbformat": 4,
 "nbformat_minor": 5
}
